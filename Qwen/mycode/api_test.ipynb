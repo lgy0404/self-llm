{
 "cells": [
  {
   "cell_type": "code",
   "execution_count": 1,
   "metadata": {},
   "outputs": [
    {
     "name": "stdout",
     "output_type": "stream",
     "text": [
      "你好！有什么我可以帮助你的吗？\n"
     ]
    }
   ],
   "source": [
    "import requests\n",
    "import json\n",
    "\n",
    "def get_completion(prompt):\n",
    "    headers = {'Content-Type': 'application/json'}\n",
    "    data = {\"prompt\": prompt, \"history\": []}\n",
    "    response = requests.post(url='http://127.0.0.1:6006', headers=headers, data=json.dumps(data))\n",
    "    return response.json()['response']\n",
    "\n",
    "if __name__ == '__main__':\n",
    "    print(get_completion('你好'))\n"
   ]
  },
  {
   "cell_type": "code",
   "execution_count": 2,
   "metadata": {},
   "outputs": [
    {
     "name": "stdout",
     "output_type": "stream",
     "text": [
      "抱歉，作为AI助手，我无法实时获取当前天气信息。你可以尝试查询天气预报网站或使用手机上的天气应用来获取最新天气情况。\n"
     ]
    }
   ],
   "source": [
    "print(get_completion('今天天气怎么样'))"
   ]
  },
  {
   "cell_type": "code",
   "execution_count": 3,
   "metadata": {},
   "outputs": [
    {
     "name": "stdout",
     "output_type": "stream",
     "text": [
      "车间调度问题是指在一定的生产条件下，如何安排生产任务，使得生产任务能够按时完成，且尽可能减少生产成本的问题。它是一个典型的组合优化问题，需要考虑多个因素，如生产任务的优先级、生产资源的限制、生产时间的限制等。\n"
     ]
    }
   ],
   "source": [
    "print(get_completion('什么是车间调度问题'))"
   ]
  },
  {
   "cell_type": "code",
   "execution_count": 4,
   "metadata": {},
   "outputs": [
    {
     "name": "stdout",
     "output_type": "stream",
     "text": [
      "好的，我可以帮助你解决车间调度问题。首先，你需要确定生产任务的优先级，以便确定生产任务的完成顺序。其次，你需要确定生产任务的资源需求，以便确定生产任务的完成时间。最后，你需要确定生产任务的分配，以便确保生产任务能够按时完成。\n"
     ]
    }
   ],
   "source": [
    "print(get_completion('现在假设你是一个车间调度问题的专家'))"
   ]
  },
  {
   "cell_type": "code",
   "execution_count": 5,
   "metadata": {},
   "outputs": [
    {
     "name": "stdout",
     "output_type": "stream",
     "text": [
      "我是通义千问，由阿里云开发的语言模型。我被设计用来回答各种问题、提供信息和与用户进行对话。有什么我可以帮助你的吗？\n"
     ]
    }
   ],
   "source": [
    "print(get_completion('你是谁'))"
   ]
  }
 ],
 "metadata": {
  "kernelspec": {
   "display_name": "py39",
   "language": "python",
   "name": "python3"
  },
  "language_info": {
   "codemirror_mode": {
    "name": "ipython",
    "version": 3
   },
   "file_extension": ".py",
   "mimetype": "text/x-python",
   "name": "python",
   "nbconvert_exporter": "python",
   "pygments_lexer": "ipython3",
   "version": "3.9.19"
  }
 },
 "nbformat": 4,
 "nbformat_minor": 2
}
